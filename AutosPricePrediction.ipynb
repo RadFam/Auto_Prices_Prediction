{
 "cells": [
  {
   "cell_type": "markdown",
   "metadata": {},
   "source": [
    "# Определение стоимости автомобилей"
   ]
  },
  {
   "attachments": {},
   "cell_type": "markdown",
   "metadata": {},
   "source": [
    "<span style=\"color:green\">\n",
    "Сервис по продаже автомобилей с пробегом разрабатывает приложение для привлечения новых клиентов. В нём можно быстро узнать рыночную стоимость своего автомобиля. Есть исторические данные: технические характеристики, комплектации и цены автомобилей. Нужно построить модель для определения стоимости. \n",
    "\n",
    "Заказчику важны:\n",
    "\n",
    "- качество предсказания;\n",
    "- скорость предсказания;\n",
    "- время обучения.\n",
    "</span>"
   ]
  },
  {
   "cell_type": "markdown",
   "metadata": {},
   "source": [
    "## Подготовка данных"
   ]
  },
  {
   "cell_type": "markdown",
   "metadata": {},
   "source": [
    "<span style=\"color:green\">\n",
    "Импортируем необходимые модули\n",
    "</span>"
   ]
  },
  {
   "cell_type": "code",
   "execution_count": 1,
   "metadata": {},
   "outputs": [],
   "source": [
    "import random\n",
    "import os\n",
    "import time\n",
    "\n",
    "import pandas as pd\n",
    "import numpy as np\n",
    "import matplotlib.pyplot as plt\n",
    "import lightgbm as lgb\n",
    "\n",
    "from numpy.random import RandomState\n",
    "\n",
    "from sklearn.linear_model import SGDRegressor\n",
    "from sklearn.ensemble import RandomForestRegressor\n",
    "from sklearn.dummy import DummyRegressor\n",
    "from sklearn.model_selection import train_test_split, GridSearchCV, cross_val_score\n",
    "from sklearn.metrics import mean_squared_error\n",
    "from sklearn.preprocessing import StandardScaler, OrdinalEncoder"
   ]
  },
  {
   "cell_type": "markdown",
   "metadata": {},
   "source": [
    "<span style=\"color:green\">\n",
    "Загрузим данные\n",
    "</span>"
   ]
  },
  {
   "cell_type": "code",
   "execution_count": 2,
   "metadata": {},
   "outputs": [],
   "source": [
    "path_01 = '/datasets/autos.csv'\n",
    "path_02 = 'autos.csv'\n",
    "\n",
    "if os.path.exists(path_01):\n",
    "    df = pd.read_csv(path_01)\n",
    "elif os.path.exists(path_02):\n",
    "    df = pd.read_csv(path_02)\n",
    "else:\n",
    "    print(\"Can't open csv file. Check it path or if it exists\")\n",
    "    raise pd.errors.EmptyDataError"
   ]
  },
  {
   "cell_type": "markdown",
   "metadata": {},
   "source": [
    "<span style=\"color:green\">\n",
    "Осмотрим полученные данные\n",
    "</span>"
   ]
  },
  {
   "cell_type": "code",
   "execution_count": 4,
   "metadata": {},
   "outputs": [
    {
     "data": {
      "text/html": [
       "<div>\n",
       "<style scoped>\n",
       "    .dataframe tbody tr th:only-of-type {\n",
       "        vertical-align: middle;\n",
       "    }\n",
       "\n",
       "    .dataframe tbody tr th {\n",
       "        vertical-align: top;\n",
       "    }\n",
       "\n",
       "    .dataframe thead th {\n",
       "        text-align: right;\n",
       "    }\n",
       "</style>\n",
       "<table border=\"1\" class=\"dataframe\">\n",
       "  <thead>\n",
       "    <tr style=\"text-align: right;\">\n",
       "      <th></th>\n",
       "      <th>DateCrawled</th>\n",
       "      <th>Price</th>\n",
       "      <th>VehicleType</th>\n",
       "      <th>RegistrationYear</th>\n",
       "      <th>Gearbox</th>\n",
       "      <th>Power</th>\n",
       "      <th>Model</th>\n",
       "      <th>Kilometer</th>\n",
       "      <th>RegistrationMonth</th>\n",
       "      <th>FuelType</th>\n",
       "      <th>Brand</th>\n",
       "      <th>NotRepaired</th>\n",
       "      <th>DateCreated</th>\n",
       "      <th>NumberOfPictures</th>\n",
       "      <th>PostalCode</th>\n",
       "      <th>LastSeen</th>\n",
       "    </tr>\n",
       "  </thead>\n",
       "  <tbody>\n",
       "    <tr>\n",
       "      <th>0</th>\n",
       "      <td>2016-03-24 11:52:17</td>\n",
       "      <td>480</td>\n",
       "      <td>NaN</td>\n",
       "      <td>1993</td>\n",
       "      <td>manual</td>\n",
       "      <td>0</td>\n",
       "      <td>golf</td>\n",
       "      <td>150000</td>\n",
       "      <td>0</td>\n",
       "      <td>petrol</td>\n",
       "      <td>volkswagen</td>\n",
       "      <td>NaN</td>\n",
       "      <td>2016-03-24 00:00:00</td>\n",
       "      <td>0</td>\n",
       "      <td>70435</td>\n",
       "      <td>2016-04-07 03:16:57</td>\n",
       "    </tr>\n",
       "    <tr>\n",
       "      <th>1</th>\n",
       "      <td>2016-03-24 10:58:45</td>\n",
       "      <td>18300</td>\n",
       "      <td>coupe</td>\n",
       "      <td>2011</td>\n",
       "      <td>manual</td>\n",
       "      <td>190</td>\n",
       "      <td>NaN</td>\n",
       "      <td>125000</td>\n",
       "      <td>5</td>\n",
       "      <td>gasoline</td>\n",
       "      <td>audi</td>\n",
       "      <td>yes</td>\n",
       "      <td>2016-03-24 00:00:00</td>\n",
       "      <td>0</td>\n",
       "      <td>66954</td>\n",
       "      <td>2016-04-07 01:46:50</td>\n",
       "    </tr>\n",
       "    <tr>\n",
       "      <th>2</th>\n",
       "      <td>2016-03-14 12:52:21</td>\n",
       "      <td>9800</td>\n",
       "      <td>suv</td>\n",
       "      <td>2004</td>\n",
       "      <td>auto</td>\n",
       "      <td>163</td>\n",
       "      <td>grand</td>\n",
       "      <td>125000</td>\n",
       "      <td>8</td>\n",
       "      <td>gasoline</td>\n",
       "      <td>jeep</td>\n",
       "      <td>NaN</td>\n",
       "      <td>2016-03-14 00:00:00</td>\n",
       "      <td>0</td>\n",
       "      <td>90480</td>\n",
       "      <td>2016-04-05 12:47:46</td>\n",
       "    </tr>\n",
       "    <tr>\n",
       "      <th>3</th>\n",
       "      <td>2016-03-17 16:54:04</td>\n",
       "      <td>1500</td>\n",
       "      <td>small</td>\n",
       "      <td>2001</td>\n",
       "      <td>manual</td>\n",
       "      <td>75</td>\n",
       "      <td>golf</td>\n",
       "      <td>150000</td>\n",
       "      <td>6</td>\n",
       "      <td>petrol</td>\n",
       "      <td>volkswagen</td>\n",
       "      <td>no</td>\n",
       "      <td>2016-03-17 00:00:00</td>\n",
       "      <td>0</td>\n",
       "      <td>91074</td>\n",
       "      <td>2016-03-17 17:40:17</td>\n",
       "    </tr>\n",
       "    <tr>\n",
       "      <th>4</th>\n",
       "      <td>2016-03-31 17:25:20</td>\n",
       "      <td>3600</td>\n",
       "      <td>small</td>\n",
       "      <td>2008</td>\n",
       "      <td>manual</td>\n",
       "      <td>69</td>\n",
       "      <td>fabia</td>\n",
       "      <td>90000</td>\n",
       "      <td>7</td>\n",
       "      <td>gasoline</td>\n",
       "      <td>skoda</td>\n",
       "      <td>no</td>\n",
       "      <td>2016-03-31 00:00:00</td>\n",
       "      <td>0</td>\n",
       "      <td>60437</td>\n",
       "      <td>2016-04-06 10:17:21</td>\n",
       "    </tr>\n",
       "  </tbody>\n",
       "</table>\n",
       "</div>"
      ],
      "text/plain": [
       "           DateCrawled  Price VehicleType  RegistrationYear Gearbox  Power  \\\n",
       "0  2016-03-24 11:52:17    480         NaN              1993  manual      0   \n",
       "1  2016-03-24 10:58:45  18300       coupe              2011  manual    190   \n",
       "2  2016-03-14 12:52:21   9800         suv              2004    auto    163   \n",
       "3  2016-03-17 16:54:04   1500       small              2001  manual     75   \n",
       "4  2016-03-31 17:25:20   3600       small              2008  manual     69   \n",
       "\n",
       "   Model  Kilometer  RegistrationMonth  FuelType       Brand NotRepaired  \\\n",
       "0   golf     150000                  0    petrol  volkswagen         NaN   \n",
       "1    NaN     125000                  5  gasoline        audi         yes   \n",
       "2  grand     125000                  8  gasoline        jeep         NaN   \n",
       "3   golf     150000                  6    petrol  volkswagen          no   \n",
       "4  fabia      90000                  7  gasoline       skoda          no   \n",
       "\n",
       "           DateCreated  NumberOfPictures  PostalCode             LastSeen  \n",
       "0  2016-03-24 00:00:00                 0       70435  2016-04-07 03:16:57  \n",
       "1  2016-03-24 00:00:00                 0       66954  2016-04-07 01:46:50  \n",
       "2  2016-03-14 00:00:00                 0       90480  2016-04-05 12:47:46  \n",
       "3  2016-03-17 00:00:00                 0       91074  2016-03-17 17:40:17  \n",
       "4  2016-03-31 00:00:00                 0       60437  2016-04-06 10:17:21  "
      ]
     },
     "execution_count": 4,
     "metadata": {},
     "output_type": "execute_result"
    }
   ],
   "source": [
    "df.head(5)"
   ]
  },
  {
   "cell_type": "code",
   "execution_count": 5,
   "metadata": {},
   "outputs": [
    {
     "name": "stdout",
     "output_type": "stream",
     "text": [
      "<class 'pandas.core.frame.DataFrame'>\n",
      "RangeIndex: 354369 entries, 0 to 354368\n",
      "Data columns (total 16 columns):\n",
      " #   Column             Non-Null Count   Dtype \n",
      "---  ------             --------------   ----- \n",
      " 0   DateCrawled        354369 non-null  object\n",
      " 1   Price              354369 non-null  int64 \n",
      " 2   VehicleType        316879 non-null  object\n",
      " 3   RegistrationYear   354369 non-null  int64 \n",
      " 4   Gearbox            334536 non-null  object\n",
      " 5   Power              354369 non-null  int64 \n",
      " 6   Model              334664 non-null  object\n",
      " 7   Kilometer          354369 non-null  int64 \n",
      " 8   RegistrationMonth  354369 non-null  int64 \n",
      " 9   FuelType           321474 non-null  object\n",
      " 10  Brand              354369 non-null  object\n",
      " 11  NotRepaired        283215 non-null  object\n",
      " 12  DateCreated        354369 non-null  object\n",
      " 13  NumberOfPictures   354369 non-null  int64 \n",
      " 14  PostalCode         354369 non-null  int64 \n",
      " 15  LastSeen           354369 non-null  object\n",
      "dtypes: int64(7), object(9)\n",
      "memory usage: 43.3+ MB\n"
     ]
    }
   ],
   "source": [
    "df.info()"
   ]
  },
  {
   "cell_type": "code",
   "execution_count": 6,
   "metadata": {},
   "outputs": [
    {
     "name": "stdout",
     "output_type": "stream",
     "text": [
      "[nan 'coupe' 'suv' 'small' 'sedan' 'convertible' 'bus' 'wagon' 'other']\n"
     ]
    },
    {
     "data": {
      "text/plain": [
       "sedan          91457\n",
       "small          79831\n",
       "wagon          65166\n",
       "bus            28775\n",
       "convertible    20203\n",
       "coupe          16163\n",
       "suv            11996\n",
       "other           3288\n",
       "Name: VehicleType, dtype: int64"
      ]
     },
     "execution_count": 6,
     "metadata": {},
     "output_type": "execute_result"
    }
   ],
   "source": [
    "print(df.VehicleType.unique())\n",
    "df['VehicleType'].value_counts()"
   ]
  },
  {
   "cell_type": "code",
   "execution_count": 7,
   "metadata": {},
   "outputs": [
    {
     "name": "stdout",
     "output_type": "stream",
     "text": [
      "['petrol' 'gasoline' nan 'lpg' 'other' 'hybrid' 'cng' 'electric']\n"
     ]
    },
    {
     "data": {
      "text/plain": [
       "petrol      216352\n",
       "gasoline     98720\n",
       "lpg           5310\n",
       "cng            565\n",
       "hybrid         233\n",
       "other          204\n",
       "electric        90\n",
       "Name: FuelType, dtype: int64"
      ]
     },
     "execution_count": 7,
     "metadata": {},
     "output_type": "execute_result"
    }
   ],
   "source": [
    "print(df.FuelType.unique())\n",
    "df['FuelType'].value_counts()"
   ]
  },
  {
   "cell_type": "code",
   "execution_count": 8,
   "metadata": {},
   "outputs": [
    {
     "name": "stdout",
     "output_type": "stream",
     "text": [
      "['manual' 'auto' nan]\n"
     ]
    },
    {
     "data": {
      "text/plain": [
       "manual    268251\n",
       "auto       66285\n",
       "Name: Gearbox, dtype: int64"
      ]
     },
     "execution_count": 8,
     "metadata": {},
     "output_type": "execute_result"
    }
   ],
   "source": [
    "print(df.Gearbox.unique())\n",
    "df['Gearbox'].value_counts()"
   ]
  },
  {
   "cell_type": "code",
   "execution_count": 9,
   "metadata": {},
   "outputs": [
    {
     "name": "stdout",
     "output_type": "stream",
     "text": [
      "[nan 'yes' 'no']\n"
     ]
    },
    {
     "data": {
      "text/plain": [
       "no     247161\n",
       "yes     36054\n",
       "Name: NotRepaired, dtype: int64"
      ]
     },
     "execution_count": 9,
     "metadata": {},
     "output_type": "execute_result"
    }
   ],
   "source": [
    "print(df.NotRepaired.unique())\n",
    "df['NotRepaired'].value_counts()"
   ]
  },
  {
   "cell_type": "code",
   "execution_count": 10,
   "metadata": {},
   "outputs": [
    {
     "data": {
      "text/html": [
       "<div>\n",
       "<style scoped>\n",
       "    .dataframe tbody tr th:only-of-type {\n",
       "        vertical-align: middle;\n",
       "    }\n",
       "\n",
       "    .dataframe tbody tr th {\n",
       "        vertical-align: top;\n",
       "    }\n",
       "\n",
       "    .dataframe thead th {\n",
       "        text-align: right;\n",
       "    }\n",
       "</style>\n",
       "<table border=\"1\" class=\"dataframe\">\n",
       "  <thead>\n",
       "    <tr style=\"text-align: right;\">\n",
       "      <th></th>\n",
       "      <th>Price</th>\n",
       "      <th>RegistrationYear</th>\n",
       "      <th>Power</th>\n",
       "      <th>Kilometer</th>\n",
       "      <th>RegistrationMonth</th>\n",
       "      <th>NumberOfPictures</th>\n",
       "      <th>PostalCode</th>\n",
       "    </tr>\n",
       "  </thead>\n",
       "  <tbody>\n",
       "    <tr>\n",
       "      <th>count</th>\n",
       "      <td>354369.000000</td>\n",
       "      <td>354369.000000</td>\n",
       "      <td>354369.000000</td>\n",
       "      <td>354369.000000</td>\n",
       "      <td>354369.000000</td>\n",
       "      <td>354369.0</td>\n",
       "      <td>354369.000000</td>\n",
       "    </tr>\n",
       "    <tr>\n",
       "      <th>mean</th>\n",
       "      <td>4416.656776</td>\n",
       "      <td>2004.234448</td>\n",
       "      <td>110.094337</td>\n",
       "      <td>128211.172535</td>\n",
       "      <td>5.714645</td>\n",
       "      <td>0.0</td>\n",
       "      <td>50508.689087</td>\n",
       "    </tr>\n",
       "    <tr>\n",
       "      <th>std</th>\n",
       "      <td>4514.158514</td>\n",
       "      <td>90.227958</td>\n",
       "      <td>189.850405</td>\n",
       "      <td>37905.341530</td>\n",
       "      <td>3.726421</td>\n",
       "      <td>0.0</td>\n",
       "      <td>25783.096248</td>\n",
       "    </tr>\n",
       "    <tr>\n",
       "      <th>min</th>\n",
       "      <td>0.000000</td>\n",
       "      <td>1000.000000</td>\n",
       "      <td>0.000000</td>\n",
       "      <td>5000.000000</td>\n",
       "      <td>0.000000</td>\n",
       "      <td>0.0</td>\n",
       "      <td>1067.000000</td>\n",
       "    </tr>\n",
       "    <tr>\n",
       "      <th>25%</th>\n",
       "      <td>1050.000000</td>\n",
       "      <td>1999.000000</td>\n",
       "      <td>69.000000</td>\n",
       "      <td>125000.000000</td>\n",
       "      <td>3.000000</td>\n",
       "      <td>0.0</td>\n",
       "      <td>30165.000000</td>\n",
       "    </tr>\n",
       "    <tr>\n",
       "      <th>50%</th>\n",
       "      <td>2700.000000</td>\n",
       "      <td>2003.000000</td>\n",
       "      <td>105.000000</td>\n",
       "      <td>150000.000000</td>\n",
       "      <td>6.000000</td>\n",
       "      <td>0.0</td>\n",
       "      <td>49413.000000</td>\n",
       "    </tr>\n",
       "    <tr>\n",
       "      <th>75%</th>\n",
       "      <td>6400.000000</td>\n",
       "      <td>2008.000000</td>\n",
       "      <td>143.000000</td>\n",
       "      <td>150000.000000</td>\n",
       "      <td>9.000000</td>\n",
       "      <td>0.0</td>\n",
       "      <td>71083.000000</td>\n",
       "    </tr>\n",
       "    <tr>\n",
       "      <th>max</th>\n",
       "      <td>20000.000000</td>\n",
       "      <td>9999.000000</td>\n",
       "      <td>20000.000000</td>\n",
       "      <td>150000.000000</td>\n",
       "      <td>12.000000</td>\n",
       "      <td>0.0</td>\n",
       "      <td>99998.000000</td>\n",
       "    </tr>\n",
       "  </tbody>\n",
       "</table>\n",
       "</div>"
      ],
      "text/plain": [
       "               Price  RegistrationYear          Power      Kilometer  \\\n",
       "count  354369.000000     354369.000000  354369.000000  354369.000000   \n",
       "mean     4416.656776       2004.234448     110.094337  128211.172535   \n",
       "std      4514.158514         90.227958     189.850405   37905.341530   \n",
       "min         0.000000       1000.000000       0.000000    5000.000000   \n",
       "25%      1050.000000       1999.000000      69.000000  125000.000000   \n",
       "50%      2700.000000       2003.000000     105.000000  150000.000000   \n",
       "75%      6400.000000       2008.000000     143.000000  150000.000000   \n",
       "max     20000.000000       9999.000000   20000.000000  150000.000000   \n",
       "\n",
       "       RegistrationMonth  NumberOfPictures     PostalCode  \n",
       "count      354369.000000          354369.0  354369.000000  \n",
       "mean            5.714645               0.0   50508.689087  \n",
       "std             3.726421               0.0   25783.096248  \n",
       "min             0.000000               0.0    1067.000000  \n",
       "25%             3.000000               0.0   30165.000000  \n",
       "50%             6.000000               0.0   49413.000000  \n",
       "75%             9.000000               0.0   71083.000000  \n",
       "max            12.000000               0.0   99998.000000  "
      ]
     },
     "execution_count": 10,
     "metadata": {},
     "output_type": "execute_result"
    }
   ],
   "source": [
    "df.describe()"
   ]
  },
  {
   "cell_type": "markdown",
   "metadata": {},
   "source": [
    "<span style=\"color:green\">\n",
    "Пройдемся по численным аномалиям:<br><br>\n",
    "Есть нулевые цены, что невозможно даже в том случае, если машина отдается по цене металлолома - скорее всего придется \"подрезать\" ценники, чтобы они начинались со сколь-нибудь адекватной цены<br><br>\n",
    "Есть неверные года регистрации машины (1000 год - это явная ошибка, как и 9999-й)<br><br>\n",
    "Аналогично ценам, есть неверные значение мощности двигателя<br><br>\n",
    "Нулевой месяц регистрации, при том что максимальный месяц регистрации - 12-й<br><br>\n",
    "Стобцы с числом фотографий и почтовым кодом не нужны. Первый по причине отсутсвия данных вообще, второй - потому что, по здравому смыслу, география страны мало влияет на стоимость автомобиля - точнее влиять может, но тогда индексы надо группировать в регионы, что мы априори сделать не сможем, так как не владеем подобными данными<br><br>\n",
    "Посмотрим, где можно произвести отсечки аномальных значений у цены, мощности, месяца и года регистрации\n",
    "</span>"
   ]
  },
  {
   "cell_type": "markdown",
   "metadata": {},
   "source": [
    "<span style=\"color:green\">\n",
    "Начнем с анализа цен\n",
    "</span>"
   ]
  },
  {
   "cell_type": "code",
   "execution_count": 11,
   "metadata": {},
   "outputs": [
    {
     "data": {
      "text/plain": [
       "Text(0, 0.5, 'Число значений')"
      ]
     },
     "execution_count": 11,
     "metadata": {},
     "output_type": "execute_result"
    },
    {
     "data": {
      "image/png": "[encoded data removed]",
      "text/plain": [
       "<Figure size 864x648 with 1 Axes>"
      ]
     },
     "metadata": {
      "needs_background": "light"
     },
     "output_type": "display_data"
    }
   ],
   "source": [
    "# График цены в районе низких аномальных значений\n",
    "ax = df['Price'].hist(bins=50, figsize=(12,9), range=(0, 1000));\n",
    "ax.set_xlabel('Цена автомобиля')\n",
    "ax.set_ylabel('Число значений')"
   ]
  },
  {
   "attachments": {},
   "cell_type": "markdown",
   "metadata": {},
   "source": [
    "<span style=\"color:green\">\n",
    "Посмотрим на различные квантили распределения цен на автомобили:\n",
    "</span>"
   ]
  },
  {
   "cell_type": "code",
   "execution_count": 12,
   "metadata": {},
   "outputs": [
    {
     "name": "stdout",
     "output_type": "stream",
     "text": [
      "Quantiles: 0.0 - 16900.0\n"
     ]
    },
    {
     "data": {
      "text/plain": [
       "Price    345763\n",
       "dtype: int64"
      ]
     },
     "execution_count": 12,
     "metadata": {},
     "output_type": "execute_result"
    }
   ],
   "source": [
    "# Нижний квантиль - 2.5%, верхний квантиль - 97.5%\n",
    "lower_quantile = df['Price'].quantile(q=0.025)\n",
    "higher_quantile = df['Price'].quantile(q=0.975)\n",
    "print(f'Quantiles: {lower_quantile} - {higher_quantile}')\n",
    "df['Price'].to_frame().query('Price >= @lower_quantile and Price <= @higher_quantile').count()"
   ]
  },
  {
   "cell_type": "code",
   "execution_count": 13,
   "metadata": {},
   "outputs": [
    {
     "name": "stdout",
     "output_type": "stream",
     "text": [
      "Quantiles: 200.0 - 16900.0\n"
     ]
    },
    {
     "data": {
      "text/plain": [
       "Price    328301\n",
       "dtype: int64"
      ]
     },
     "execution_count": 13,
     "metadata": {},
     "output_type": "execute_result"
    }
   ],
   "source": [
    "# Нижний квантиль - 5%, верхний квантиль - 97.5%\n",
    "lower_quantile = df['Price'].quantile(q=0.05)\n",
    "higher_quantile = df['Price'].quantile(q=0.975)\n",
    "print(f'Quantiles: {lower_quantile} - {higher_quantile}')\n",
    "df['Price'].to_frame().query('Price >= @lower_quantile and Price <= @higher_quantile').count()"
   ]
  },
  {
   "cell_type": "code",
   "execution_count": 14,
   "metadata": {},
   "outputs": [
    {
     "name": "stdout",
     "output_type": "stream",
     "text": [
      "Quantiles: 200.0 - 20000.0\n"
     ]
    },
    {
     "data": {
      "text/plain": [
       "Price    336907\n",
       "dtype: int64"
      ]
     },
     "execution_count": 14,
     "metadata": {},
     "output_type": "execute_result"
    }
   ],
   "source": [
    "# Нижний квантиль - 5%, верхний квантиль - 100.0%\n",
    "lower_quantile = df['Price'].quantile(q=0.05)\n",
    "higher_quantile = df['Price'].quantile(q=1.0)\n",
    "print(f'Quantiles: {lower_quantile} - {higher_quantile}')\n",
    "df['Price'].to_frame().query('Price >= @lower_quantile and Price <= @higher_quantile').count()"
   ]
  },
  {
   "attachments": {},
   "cell_type": "markdown",
   "metadata": {},
   "source": [
    "<span style=\"color:green\">\n",
    "Руководствуясь целесообразностью и здравым смыслом, оставим побольше данных из датасета (спойлер - после проверки на соответствие датам будет удалено довольно много строк), оставим нижнюю границу стоимости автомобиля в 200 долларов - возможно, что машина уже не функциональна и годится только на запчасти, а верхнюю в 20000 долларов - подержанные автомобили премиум класса\n",
    "</span>"
   ]
  },
  {
   "cell_type": "markdown",
   "metadata": {},
   "source": [
    "<span style=\"color:green\">\n",
    "Проанализируем год регистрации автомобиля\n",
    "</span>"
   ]
  },
  {
   "cell_type": "code",
   "execution_count": 15,
   "metadata": {},
   "outputs": [
    {
     "data": {
      "text/plain": [
       "Text(0, 0.5, 'Число значений')"
      ]
     },
     "execution_count": 15,
     "metadata": {},
     "output_type": "execute_result"
    },
    {
     "data": {
      "image/png": "[encoded data removed]",
      "text/plain": [
       "<Figure size 864x648 with 2 Axes>"
      ]
     },
     "metadata": {
      "needs_background": "light"
     },
     "output_type": "display_data"
    }
   ],
   "source": [
    "# График года регистрации в районе аномально низких и аномально высоких значений\n",
    "\n",
    "fig, ax = plt.subplots(nrows=2, ncols=1, figsize=(12,18))\n",
    "\n",
    "ax_0 = df['RegistrationYear'].hist(bins=50, figsize=(12,9), range=(1000, 1980), ax=ax[0]);\n",
    "ax_0.set_xlabel('Год регистрации автомобиля')\n",
    "ax_0.set_ylabel('Число значений')\n",
    "\n",
    "ax_1 = df['RegistrationYear'].hist(bins=50, figsize=(12,9), range=(2000, 9999), ax=ax[1]);\n",
    "ax_1.set_xlabel('Год регистрации автомобиля')\n",
    "ax_1.set_ylabel('Число значений')"
   ]
  },
  {
   "cell_type": "markdown",
   "metadata": {},
   "source": [
    "<span style=\"color:green\">\n",
    "В качестве граничных значений для года регистрации автомобиля оставим с 1950 по 2022-й\n",
    "</span>"
   ]
  },
  {
   "attachments": {},
   "cell_type": "markdown",
   "metadata": {},
   "source": [
    "<span style=\"color:green\">\n",
    "Осуществим проверку регистрации автомобиля по полю 'DateCrawled'\n",
    "</span>"
   ]
  },
  {
   "cell_type": "code",
   "execution_count": 16,
   "metadata": {},
   "outputs": [],
   "source": [
    "df['DateCrawled'] = df['DateCrawled'].apply(pd.to_datetime)\n",
    "df['year_download'] = df['DateCrawled'].dt.year\n",
    "\n",
    "df = df.query('RegistrationYear <= year_download and RegistrationYear >= 1950')\n",
    "df.drop(['year_download'], axis=1, inplace=True)"
   ]
  },
  {
   "cell_type": "markdown",
   "metadata": {},
   "source": [
    "<span style=\"color:green\">\n",
    "Оценим границы диапазона мощностей двигателей\n",
    "</span>"
   ]
  },
  {
   "cell_type": "code",
   "execution_count": 17,
   "metadata": {},
   "outputs": [
    {
     "data": {
      "text/plain": [
       "Power    37683\n",
       "dtype: int64"
      ]
     },
     "execution_count": 17,
     "metadata": {},
     "output_type": "execute_result"
    }
   ],
   "source": [
    "df['Power'].to_frame().query('Power < 40').count()"
   ]
  },
  {
   "cell_type": "code",
   "execution_count": 18,
   "metadata": {},
   "outputs": [
    {
     "data": {
      "text/plain": [
       "Power    1141\n",
       "dtype: int64"
      ]
     },
     "execution_count": 18,
     "metadata": {},
     "output_type": "execute_result"
    }
   ],
   "source": [
    "df['Power'].to_frame().query('Power > 350').count()"
   ]
  },
  {
   "cell_type": "code",
   "execution_count": 19,
   "metadata": {},
   "outputs": [
    {
     "data": {
      "text/plain": [
       "Text(0, 0.5, 'Число значений')"
      ]
     },
     "execution_count": 19,
     "metadata": {},
     "output_type": "execute_result"
    },
    {
     "data": {
      "image/png": "[encoded data removed]",
      "text/plain": [
       "<Figure size 864x648 with 2 Axes>"
      ]
     },
     "metadata": {
      "needs_background": "light"
     },
     "output_type": "display_data"
    }
   ],
   "source": [
    "# График мощности двигателя в районе аномально низких и аномально высоких значений\n",
    "\n",
    "fig, ax = plt.subplots(nrows=2, ncols=1, figsize=(12,18))\n",
    "\n",
    "ax_0 = df['Power'].hist(bins=50, figsize=(12,9), range=(0, 60), ax=ax[0]);\n",
    "ax_0.set_xlabel('Мощность двигателя автомобиля')\n",
    "ax_0.set_ylabel('Число значений')\n",
    "\n",
    "ax_1 = df['Power'].hist(bins=50, figsize=(12,9), range=(143, 500), ax=ax[1]);\n",
    "ax_1.set_xlabel('Мощность двигателя автомобиля')\n",
    "ax_1.set_ylabel('Число значений')\n"
   ]
  },
  {
   "attachments": {},
   "cell_type": "markdown",
   "metadata": {},
   "source": [
    "<span style=\"color:green\">\n",
    "Увы, похоже что в данных присутствует фатальная ошибка - около 40000 объявлений содержат записи от том, что мощность двигателя 0-2 лошадиные силы, что заведомо абсурдно, но как это исправить, увы, непонятно. С другой стороны, просто так выбросить эти значения сложно, так как их слишком много (> 10% от общего числа строк) Но все равно установим диапазон мощностей от 40 до 350 л.с. (это хотя бы похоже на правду)\n",
    "</span>"
   ]
  },
  {
   "attachments": {},
   "cell_type": "markdown",
   "metadata": {},
   "source": [
    "<span style=\"color:green\">\n",
    "Таким образом, предварительно преобразуем наши данные так, чтобы не было бесполезных и аномальных значений:<br><br>\n",
    "1. Столбцы 'DateCrawled', 'NumberOfPictures' и 'PostalCode' не нужны<br>\n",
    "2. Цена автомобиля от 200 долларов и выше<br>\n",
    "3. Год регистрации автомобиля от 1950 года до 2022-го<br>\n",
    "4. Мощность двигателя автомобиля ограничить от 40 до 350 л.с.<br>\n",
    "</span>"
   ]
  },
  {
   "attachments": {},
   "cell_type": "markdown",
   "metadata": {},
   "source": [
    "<span style=\"color:green\">\n",
    "Логическая связь между месяцем продажи и стоимостью автомобиля, если и есть, то очень неочевидна. Удалим тогда столбец 'RegistrationMonth' из рассмотрения\n",
    "</span>"
   ]
  },
  {
   "cell_type": "code",
   "execution_count": 20,
   "metadata": {},
   "outputs": [],
   "source": [
    "columns_dict = {\"DateCrawled\" : \"date_crawled\", \"Price\": \"price\", \"VehicleType\" : \"vechicle_type\", \"RegistrationYear\" : \"registartion_year\", \"Gearbox\" : \"gear_box\", \"Power\" : \"power\", \"Model\" : \"model\", \"Kilometer\" : \"kilometer\", \"RegistrationMonth\" : \"registration_month\", \"FuelType\" : \"fuel_type\", \"Brand\" : \"brand\", \"NotRepaired\" : \"not_repaired\", \"DateCreated\" : \"date_created\", \"NumberOfPictures\" : \"number_of_pictures\", \"PostalCode\" : \"postal_code\", \"LastSeen\" : \"last_seen\"}\n",
    "df.rename(columns = columns_dict, inplace=True)\n",
    "\n",
    "df.drop(['date_crawled','number_of_pictures', 'postal_code', 'registration_month'], axis=1, inplace=True)"
   ]
  },
  {
   "cell_type": "code",
   "execution_count": 21,
   "metadata": {},
   "outputs": [
    {
     "name": "stdout",
     "output_type": "stream",
     "text": [
      "<class 'pandas.core.frame.DataFrame'>\n",
      "Int64Index: 290669 entries, 1 to 354368\n",
      "Data columns (total 12 columns):\n",
      " #   Column             Non-Null Count   Dtype \n",
      "---  ------             --------------   ----- \n",
      " 0   price              290669 non-null  int64 \n",
      " 1   vechicle_type      280427 non-null  object\n",
      " 2   registartion_year  290669 non-null  int64 \n",
      " 3   gear_box           285675 non-null  object\n",
      " 4   power              290669 non-null  int64 \n",
      " 5   model              280176 non-null  object\n",
      " 6   kilometer          290669 non-null  int64 \n",
      " 7   fuel_type          276038 non-null  object\n",
      " 8   brand              290669 non-null  object\n",
      " 9   not_repaired       249541 non-null  object\n",
      " 10  date_created       290669 non-null  object\n",
      " 11  last_seen          290669 non-null  object\n",
      "dtypes: int64(4), object(8)\n",
      "memory usage: 28.8+ MB\n"
     ]
    }
   ],
   "source": [
    "df = df.query('price >= @lower_quantile and price <= @higher_quantile and power >= 40 and power <= 350')\n",
    "df.info()"
   ]
  },
  {
   "attachments": {},
   "cell_type": "markdown",
   "metadata": {},
   "source": [
    "<span style=\"color:green\">\n",
    "Удаляем применение корректировки месяца регистрации за ненадобностью\n",
    "</span>"
   ]
  },
  {
   "cell_type": "code",
   "execution_count": 22,
   "metadata": {},
   "outputs": [
    {
     "name": "stdout",
     "output_type": "stream",
     "text": [
      "<class 'pandas.core.frame.DataFrame'>\n",
      "Int64Index: 290669 entries, 1 to 354368\n",
      "Data columns (total 11 columns):\n",
      " #   Column             Non-Null Count   Dtype \n",
      "---  ------             --------------   ----- \n",
      " 0   price              290669 non-null  int64 \n",
      " 1   vechicle_type      280427 non-null  object\n",
      " 2   registartion_year  290669 non-null  int64 \n",
      " 3   gear_box           285675 non-null  object\n",
      " 4   power              290669 non-null  int64 \n",
      " 5   model              280176 non-null  object\n",
      " 6   kilometer          290669 non-null  int64 \n",
      " 7   fuel_type          276038 non-null  object\n",
      " 8   brand              290669 non-null  object\n",
      " 9   not_repaired       249541 non-null  object\n",
      " 10  sales_days_active  290669 non-null  int64 \n",
      "dtypes: int64(5), object(6)\n",
      "memory usage: 26.6+ MB\n"
     ]
    }
   ],
   "source": [
    "df[['date_created', 'last_seen']] = df[['date_created', 'last_seen']].apply(pd.to_datetime)\n",
    "df['sales_days_active'] = (df['last_seen'] - df['date_created']).dt.days\n",
    "df.drop(['date_created', 'last_seen'], axis=1, inplace=True)\n",
    "df.info()"
   ]
  },
  {
   "cell_type": "markdown",
   "metadata": {},
   "source": [
    "<span style=\"color:green\">\n",
    "Тем не менее, остаются пропущенные значения у 'VechicleType', 'Gearbox', 'Model', 'FuelType', 'NotRepaired'. Конечно, можно сказать, что LightGBM умеет работать с пропущенными данными и остановиться на этом. Но все-таки прикинем сценарий, восстановления данных.<br><br>\n",
    "Для поля 'NotRepaired' мы вряд ли придумаем достоверный способ определения, была ли машина в ремонте (имеется в виду в РЕМОНТЕ) или нет. Поэтому проще - ввести категорию n/a и работать с тремя категориями - ибо таких пропущенных значений тут очень много и просто выбросить и не получится. Вариант два - привести данные в числовой формат и посмотреть кореляцию с годом выпуска машины - логично было бы, что че старше машина, тем с большей вероятностью она проходила крупный ремонт. Но опять же - это будет вероятностная экстраполяция данных, которая внесет дополнительную ошибку в предсказания.<br><br>\n",
    "У поля 'FuelType' однозначное восстановление значение маловероятно, так как у многих моделей двигатель может быть как бензиновым, так и дизельным. <br>\n",
    "'Model' - в принципе, однозначно восстановить нельзя, так как производитель машини, ее класс, коробка передач и тип топлива однозначно не смогут определить ее модель<br>\n",
    "'VechicleType' по 'Model', однако и здесь возможны сложности, так как например Volkswagen Golf бывает и 'small' и 'wagon'<br>\n",
    "'GearBox' - возможен вариант, что у одной модели может быть как ручная так и автоматическая коробка передач (это справедливо для машин не стараше, как минимум, пятнадцати лет)\n",
    "</span>"
   ]
  },
  {
   "cell_type": "markdown",
   "metadata": {},
   "source": [
    "<span style=\"color:green\">\n",
    "Введем новый тип в колонке 'not_repaired'\n",
    "</span>"
   ]
  },
  {
   "cell_type": "code",
   "execution_count": 23,
   "metadata": {},
   "outputs": [],
   "source": [
    "df['not_repaired'] = df['not_repaired'].fillna(value='n/a')"
   ]
  },
  {
   "cell_type": "markdown",
   "metadata": {},
   "source": [
    "<span style=\"color:green\">\n",
    "На всякий случай, сохраним данные для целикового анализа в LightGBM\n",
    "</span>"
   ]
  },
  {
   "cell_type": "code",
   "execution_count": 24,
   "metadata": {},
   "outputs": [],
   "source": [
    "df_init = df.copy()\n",
    "categorical = ['vechicle_type', 'gear_box', 'model', 'fuel_type', 'brand', 'not_repaired']"
   ]
  },
  {
   "attachments": {},
   "cell_type": "markdown",
   "metadata": {},
   "source": [
    "<span style=\"color:green\">\n",
    "Дополнительно создадим список некатегориальных параметров\n",
    "</span>"
   ]
  },
  {
   "cell_type": "code",
   "execution_count": 25,
   "metadata": {},
   "outputs": [],
   "source": [
    "non_categorical = ['registartion_year', 'power', 'kilometer', 'sales_days_active']"
   ]
  },
  {
   "cell_type": "markdown",
   "metadata": {},
   "source": [
    "<span style=\"color:green\">\n",
    "Выбросим все строки, где нет модели автомобиля\n",
    "</span>"
   ]
  },
  {
   "cell_type": "code",
   "execution_count": 26,
   "metadata": {},
   "outputs": [
    {
     "name": "stdout",
     "output_type": "stream",
     "text": [
      "<class 'pandas.core.frame.DataFrame'>\n",
      "Int64Index: 280176 entries, 2 to 354368\n",
      "Data columns (total 11 columns):\n",
      " #   Column             Non-Null Count   Dtype \n",
      "---  ------             --------------   ----- \n",
      " 0   price              280176 non-null  int64 \n",
      " 1   vechicle_type      271392 non-null  object\n",
      " 2   registartion_year  280176 non-null  int64 \n",
      " 3   gear_box           275796 non-null  object\n",
      " 4   power              280176 non-null  int64 \n",
      " 5   model              280176 non-null  object\n",
      " 6   kilometer          280176 non-null  int64 \n",
      " 7   fuel_type          268032 non-null  object\n",
      " 8   brand              280176 non-null  object\n",
      " 9   not_repaired       280176 non-null  object\n",
      " 10  sales_days_active  280176 non-null  int64 \n",
      "dtypes: int64(5), object(6)\n",
      "memory usage: 25.7+ MB\n"
     ]
    }
   ],
   "source": [
    "df.drop(df[pd.isna(df['model'])].index, inplace=True)\n",
    "df.info()"
   ]
  },
  {
   "cell_type": "markdown",
   "metadata": {},
   "source": [
    "<span style=\"color:green\">\n",
    "Восстановим поле 'vechicle_type'\n",
    "</span>"
   ]
  },
  {
   "cell_type": "code",
   "execution_count": 27,
   "metadata": {},
   "outputs": [],
   "source": [
    "#tmp = df.groupby(['model', 'vechicle_type'], as_index=False)['price'].count() # 100 = wagon, 145 = small, 147 = sedan, 156 = sedan, zafira = bus\n",
    "tmp = df.groupby(['model', 'vechicle_type'], as_index=False)['price'].count().sort_values('price').drop_duplicates(subset=['model'], keep='last')\n",
    "\n",
    "model_vechicle_dict = {}\n",
    "model_vechicle_dict = dict(zip(tmp.model, tmp.vechicle_type))\n",
    "\n",
    "df['vechicle_type'] = df['vechicle_type'].fillna(df['model'].map(model_vechicle_dict))"
   ]
  },
  {
   "cell_type": "markdown",
   "metadata": {},
   "source": [
    "<span style=\"color:green\">\n",
    "Восстановим поле 'fuel_type'\n",
    "</span>"
   ]
  },
  {
   "cell_type": "code",
   "execution_count": 28,
   "metadata": {},
   "outputs": [],
   "source": [
    "tmp = df.groupby(['model', 'fuel_type'], as_index=False)['price'].count().sort_values('price').drop_duplicates(subset=['model'], keep='last')\n",
    "\n",
    "model_fuel_dict = {}\n",
    "model_fuel_dict = dict(zip(tmp.model, tmp.fuel_type))\n",
    "df['fuel_type'] = df['fuel_type'].fillna(df['model'].map(model_fuel_dict))"
   ]
  },
  {
   "cell_type": "markdown",
   "metadata": {},
   "source": [
    "<span style=\"color:green\">\n",
    "Восстановим поле 'gear_box'\n",
    "</span>"
   ]
  },
  {
   "cell_type": "code",
   "execution_count": 29,
   "metadata": {},
   "outputs": [],
   "source": [
    "tmp = df.groupby(['model', 'gear_box'], as_index=False)['price'].count().sort_values('price').drop_duplicates(subset=['model'], keep='last')\n",
    "\n",
    "model_gear_dict = {}\n",
    "model_gear_dict = dict(zip(tmp.model, tmp.gear_box))\n",
    "df['gear_box'] = df['gear_box'].fillna(df['model'].map(model_gear_dict))"
   ]
  },
  {
   "attachments": {},
   "cell_type": "markdown",
   "metadata": {},
   "source": [
    "<span style=\"color:green\">\n",
    "Для дальнейших исследований сохраним копии очищенного и заполненного датасета\n",
    "</span>"
   ]
  },
  {
   "cell_type": "code",
   "execution_count": 30,
   "metadata": {},
   "outputs": [],
   "source": [
    "df_forest = df.copy()\n",
    "df_sgd = df.copy()"
   ]
  },
  {
   "cell_type": "markdown",
   "metadata": {},
   "source": [
    "## Обучение моделей"
   ]
  },
  {
   "attachments": {},
   "cell_type": "markdown",
   "metadata": {},
   "source": [
    "<span style=\"color:green\">\n",
    "Начнем с датасета с <b>пропущенными</b> данными\n",
    "<br><br>\n",
    "Выделим искомые признаки и параметры регрессии. Затем разобьем выборку на учебную и тестовую. И подберем наилучшие параметры для LightGBM\n",
    "</span>"
   ]
  },
  {
   "cell_type": "code",
   "execution_count": 31,
   "metadata": {},
   "outputs": [],
   "source": [
    "state = RandomState(123)\n",
    "\n",
    "for cat in categorical:\n",
    "    df_init[cat] = pd.Series(df_init[cat], dtype='category')\n",
    "\n",
    "features_nf = df_init.drop(['price'], axis=1)\n",
    "target_nf = df_init['price']\n",
    "\n",
    "features_train_init_nf, features_test_init_nf, target_train_init_nf, target_test_init_nf = train_test_split(features_nf, target_nf, test_size=0.2, random_state=123)"
   ]
  },
  {
   "cell_type": "code",
   "execution_count": 32,
   "metadata": {},
   "outputs": [
    {
     "name": "stdout",
     "output_type": "stream",
     "text": [
      "Gradient Boosting (not filled data) best params: {'max_depth': 9, 'n_estimators': 100}\n",
      "Gradient Boosting (not filled data) best RMSE: 1546.4157276000547\n"
     ]
    }
   ],
   "source": [
    "lgb_params = {\"n_estimators\" : range(40,101,10), \"max_depth\" : range(5,15)}\n",
    "lgb_estimator = lgb.LGBMRegressor(random_state=state)\n",
    "lgb_grid_search_nf = GridSearchCV(lgb_estimator, lgb_params, cv=5, scoring='neg_mean_squared_error')\n",
    "lgb_grid_search_nf.fit(features_train_init_nf, target_train_init_nf)\n",
    "best_lgb_params_nf = lgb_grid_search_nf.best_params_\n",
    "best_lgb_rmse_nf = lgb_grid_search_nf.best_score_\n",
    "print(f'Gradient Boosting (not filled data) best params: {best_lgb_params_nf}')\n",
    "print(f'Gradient Boosting (not filled data) best RMSE: {np.sqrt(-best_lgb_rmse_nf)}')"
   ]
  },
  {
   "attachments": {},
   "cell_type": "markdown",
   "metadata": {},
   "source": [
    "<span style=\"color:green\">\n",
    "Теперь перейдем к датасету с <b>заполенными</b> данными\n",
    "</span>"
   ]
  },
  {
   "cell_type": "code",
   "execution_count": 33,
   "metadata": {},
   "outputs": [],
   "source": [
    "for cat in categorical:\n",
    "    df[cat] = pd.Series(df[cat], dtype='category')\n",
    "\n",
    "features_fl = df.drop(['price'], axis=1)\n",
    "target_fl = df['price']\n",
    "\n",
    "features_train_fl, features_test_fl, target_train_fl, target_test_fl = train_test_split(features_fl, target_fl, test_size=0.2, random_state=123)"
   ]
  },
  {
   "cell_type": "code",
   "execution_count": 34,
   "metadata": {},
   "outputs": [
    {
     "name": "stdout",
     "output_type": "stream",
     "text": [
      "Gradient Boosting (filled data) best params: {'max_depth': 11, 'n_estimators': 100}\n",
      "Gradient Boosting (filled data) best RMSE: 1529.307437161819\n"
     ]
    }
   ],
   "source": [
    "# lgb_estimator = lgb.LGBMRegressor(random_state=state)\n",
    "lgb_grid_search_fl = GridSearchCV(lgb_estimator, lgb_params, cv=5, scoring='neg_mean_squared_error')\n",
    "lgb_grid_search_fl.fit(features_train_fl, target_train_fl)\n",
    "best_lgb_params_fl = lgb_grid_search_fl.best_params_\n",
    "best_lgb_rmse_fl = lgb_grid_search_fl.best_score_\n",
    "print(f'Gradient Boosting (filled data) best params: {best_lgb_params_fl}')\n",
    "print(f'Gradient Boosting (filled data) best RMSE: {np.sqrt(-best_lgb_rmse_fl)}')"
   ]
  },
  {
   "attachments": {},
   "cell_type": "markdown",
   "metadata": {},
   "source": [
    "<span style=\"color:green\">\n",
    "Как можно видеть, градиентный бустинг дал неплохие результат как для полностью заполненных данными датасетов, так и для датасетов с пропусками. Однако, в дальнейшем нам понадобится сравнение с другими регрессионными алгоритмами, где пропуск данных уже неприемлем, поэтому примем пока вариант работы LightGBM на заполненном датасете с наилучшим RMSE результатом в 1529.3 доллара\n",
    "</span>"
   ]
  },
  {
   "cell_type": "markdown",
   "metadata": {},
   "source": [
    "## Анализ моделей"
   ]
  },
  {
   "cell_type": "markdown",
   "metadata": {},
   "source": [
    "<span style=\"color:green\">\n",
    "Для анализа результатов градиентного бустинга рассмотрим лес дереьвев и наивный алгоритм регрессии. Работать будем над датасетом dt с заполненными пропущенными значениями\n",
    "</span>"
   ]
  },
  {
   "attachments": {},
   "cell_type": "markdown",
   "metadata": {},
   "source": [
    "<span style=\"color:green\">\n",
    "Рассмотрим возможность предсказания данных с помощью <b>леса деревьев регрессии</b>\n",
    "<br><br>\n",
    "Для этого случая с помощью Ordinal Encoder преобразуем категориальные значения в целочисленные\n",
    "</span>"
   ]
  },
  {
   "attachments": {},
   "cell_type": "markdown",
   "metadata": {},
   "source": [
    "<span style=\"color:green\">\n",
    "Заодно, засечем время, которое будет потрачено на GridSearch лучших параметров регрессии (это 5 * 4 * 7 = 140 операций fit и predict для случайного леса)\n",
    "</span>"
   ]
  },
  {
   "cell_type": "code",
   "execution_count": 35,
   "metadata": {},
   "outputs": [
    {
     "name": "stdout",
     "output_type": "stream",
     "text": [
      "Random Forest best params: {'max_depth': 9, 'n_estimators': 100}\n",
      "Random Forest best RMSE: 1894.1423123801972\n",
      "Full time elapced: 1270.8325626850128, rough mean time per forest unit is 9.077375447750091\n"
     ]
    }
   ],
   "source": [
    "features_frst = df_forest.drop(['price'], axis=1)\n",
    "target_frst = df_forest['price']\n",
    "\n",
    "encoder = OrdinalEncoder()\n",
    "encoder.fit(features_frst[categorical])\n",
    "features_frst[categorical] = encoder.transform(features_frst[categorical])\n",
    "features_frst[categorical] = features_frst[categorical].astype(np.int64)\n",
    "\n",
    "features_train_frst, features_test_frst, target_train_frst, target_test_frst = train_test_split(features_frst, target_frst, test_size=0.2, random_state=123)\n",
    "\n",
    "\n",
    "param_grid_frst = {'n_estimators': range(40,101,20), 'max_depth': range(3,10)}\n",
    "random_forest_regressor = RandomForestRegressor(random_state=state)\n",
    "grid_search_frst = GridSearchCV(random_forest_regressor, param_grid_frst, cv=5, scoring='neg_mean_squared_error')\n",
    "\n",
    "start_time = time.time()\n",
    "grid_search_frst.fit(features_train_frst, target_train_frst)\n",
    "elapsed_time = time.time() - start_time\n",
    "\n",
    "forest_best_params_frst = grid_search_frst.best_params_\n",
    "forest_best_rmse_frst = grid_search_frst.best_score_\n",
    "\n",
    "print(f'Random Forest best params: {forest_best_params_frst}')\n",
    "print(f'Random Forest best RMSE: {np.sqrt(-forest_best_rmse_frst)}')\n",
    "print(f'Full time elapced: {elapsed_time}, rough mean time per forest unit is {elapsed_time / 140}')"
   ]
  },
  {
   "attachments": {},
   "cell_type": "markdown",
   "metadata": {},
   "source": [
    "<span style=\"color:green\">\n",
    "Итак, на все про все ушло 21 минута 11 секунд, а грубая прикидка среднего времени времени обучения и предсказания леса деревьев - 9 секунд. Разумеется, 9 секунд - это <b>очень прикидочное неточное значение</b> поскольку глубина и количество деревьев менялись по ходу поиска оптимальных параметров, но тем не менее, это дает нам представление о порядке величины времени работы алгоритма. И вывод - работа идет весьма медленно, особенно, если посмотреть на 1 минуты 59 секунд решетчатого поиска LightGBM (с 7*10*5=350-и итерациями кросс-валидации - то есть, прикидочно, 0.34 сек на обучение и предсказание)\n",
    "</span>"
   ]
  },
  {
   "attachments": {},
   "cell_type": "markdown",
   "metadata": {},
   "source": [
    "<span style=\"color:green\">\n",
    "Теперь попробуем применить <b>стохастический градиентный спуск</b>\n",
    "<br><br>\n",
    "Здесь используем One Hot Encoding для преобразования категориальных значений в целочисленные, а потом применим скалирование для не-категориальных значений\n",
    "</span>"
   ]
  },
  {
   "attachments": {},
   "cell_type": "markdown",
   "metadata": {},
   "source": [
    "<span style=\"color:green\">\n",
    "Также засечем время, которое будет потрачено на кросс-валидацию и обучение алгоритма\n",
    "</span>"
   ]
  },
  {
   "cell_type": "code",
   "execution_count": 35,
   "metadata": {},
   "outputs": [
    {
     "name": "stderr",
     "output_type": "stream",
     "text": [
      "<ipython-input-35-aec0ad36c0a5>:9: SettingWithCopyWarning: \n",
      "A value is trying to be set on a copy of a slice from a DataFrame.\n",
      "Try using .loc[row_indexer,col_indexer] = value instead\n",
      "\n",
      "See the caveats in the documentation: https://pandas.pydata.org/pandas-docs/stable/user_guide/indexing.html#returning-a-view-versus-a-copy\n",
      "  features_train_sgd[non_categorical] = scaler.transform(features_train_sgd[non_categorical])\n",
      "c:\\Users\\Артем\\AppData\\Local\\Programs\\Python\\Python39\\lib\\site-packages\\pandas\\core\\indexing.py:1738: SettingWithCopyWarning: \n",
      "A value is trying to be set on a copy of a slice from a DataFrame.\n",
      "Try using .loc[row_indexer,col_indexer] = value instead\n",
      "\n",
      "See the caveats in the documentation: https://pandas.pydata.org/pandas-docs/stable/user_guide/indexing.html#returning-a-view-versus-a-copy\n",
      "  self._setitem_single_column(loc, value[:, i].tolist(), pi)\n",
      "<ipython-input-35-aec0ad36c0a5>:10: SettingWithCopyWarning: \n",
      "A value is trying to be set on a copy of a slice from a DataFrame.\n",
      "Try using .loc[row_indexer,col_indexer] = value instead\n",
      "\n",
      "See the caveats in the documentation: https://pandas.pydata.org/pandas-docs/stable/user_guide/indexing.html#returning-a-view-versus-a-copy\n",
      "  features_test_sgd[non_categorical] = scaler.transform(features_test_sgd[non_categorical])\n",
      "c:\\Users\\Артем\\AppData\\Local\\Programs\\Python\\Python39\\lib\\site-packages\\pandas\\core\\indexing.py:1738: SettingWithCopyWarning: \n",
      "A value is trying to be set on a copy of a slice from a DataFrame.\n",
      "Try using .loc[row_indexer,col_indexer] = value instead\n",
      "\n",
      "See the caveats in the documentation: https://pandas.pydata.org/pandas-docs/stable/user_guide/indexing.html#returning-a-view-versus-a-copy\n",
      "  self._setitem_single_column(loc, value[:, i].tolist(), pi)\n"
     ]
    },
    {
     "name": "stdout",
     "output_type": "stream",
     "text": [
      "[Parallel(n_jobs=1)]: Using backend SequentialBackend with 1 concurrent workers.\n",
      "[CV] START .....................................................................\n",
      "[CV] END ......................... score: (test=-6204276.576) total time=  12.9s\n",
      "[Parallel(n_jobs=1)]: Done   1 out of   1 | elapsed:   12.9s remaining:    0.0s\n",
      "[CV] START .....................................................................\n",
      "[CV] END ......................... score: (test=-6458166.530) total time=  16.2s\n",
      "[Parallel(n_jobs=1)]: Done   2 out of   2 | elapsed:   29.2s remaining:    0.0s\n",
      "[CV] START .....................................................................\n",
      "[CV] END ......................... score: (test=-6466045.996) total time=  12.6s\n",
      "[Parallel(n_jobs=1)]: Done   3 out of   3 | elapsed:   41.8s remaining:    0.0s\n",
      "[CV] START .....................................................................\n",
      "[CV] END ......................... score: (test=-6344322.727) total time=  13.8s\n",
      "[Parallel(n_jobs=1)]: Done   4 out of   4 | elapsed:   55.7s remaining:    0.0s\n",
      "[CV] START .....................................................................\n",
      "[CV] END ......................... score: (test=-6434393.293) total time=  17.5s\n",
      "[Parallel(n_jobs=1)]: Done   5 out of   5 | elapsed:  1.2min remaining:    0.0s\n",
      "[Parallel(n_jobs=1)]: Done   5 out of   5 | elapsed:  1.2min finished\n",
      "SGD cross-validation scores: [6204276.57639594 6458166.53000561 6466045.99620204 6344322.72676472\n",
      " 6434393.29291474]\n",
      "Mean cross-validation RMSE: 2526.07548573943\n",
      "Cross_val_time: 73.35611510276794\n"
     ]
    }
   ],
   "source": [
    "df_sgd = pd.get_dummies(df_sgd, columns=categorical, drop_first=True)\n",
    "features_sgd = df_sgd.drop(['price'], axis=1)\n",
    "target_sgd = df_sgd['price']\n",
    "features_train_sgd, features_test_sgd, target_train_sgd, target_test_sgd = train_test_split(features_sgd, target_sgd, test_size=0.2, random_state=123)\n",
    "\n",
    "scaler = StandardScaler()\n",
    "\n",
    "scaler.fit(features_train_sgd[non_categorical])\n",
    "features_train_sgd[non_categorical] = scaler.transform(features_train_sgd[non_categorical])\n",
    "features_test_sgd[non_categorical] = scaler.transform(features_test_sgd[non_categorical])\n",
    "\n",
    "sgd_reg = SGDRegressor(random_state = 123)\n",
    "\n",
    "start_time = time.time()\n",
    "cross_val_scores_sgd = cross_val_score(sgd_reg, features_train_sgd, target_train_sgd, cv=5, scoring='neg_mean_squared_error', verbose=50)\n",
    "cross_val_time = time.time() - start_time\n",
    "\n",
    "print(f'SGD cross-validation scores: {-cross_val_scores_sgd}')\n",
    "print(f'Mean cross-validation RMSE: {np.mean(np.sqrt(-cross_val_scores_sgd))}')\n",
    "print(f'Cross_val_time: {cross_val_time}')"
   ]
  },
  {
   "attachments": {},
   "cell_type": "markdown",
   "metadata": {},
   "source": [
    "<span style=\"color:green\">\n",
    "Здесь на пять операций кросс-валидации (обучение + предсказание) ушло 73.36 секнуды, то есть <b>примерно</b> по 14.7 секунды на одну итерацию fit+predict - тоже довольно много\n",
    "</span>"
   ]
  },
  {
   "attachments": {},
   "cell_type": "markdown",
   "metadata": {},
   "source": [
    "<span style=\"color:green\">\n",
    "Итак, для леса деревьев регрессии мы получили RMSE равный 1894.1 доллара а для стохастического градиентного спуска - 2526.08 доллара. Так что по критерию RMSE оба этих подхода уступают LightGBM\n",
    "</span>"
   ]
  },
  {
   "attachments": {},
   "cell_type": "markdown",
   "metadata": {},
   "source": [
    "<span style=\"color:green\">\n",
    "Замерим времена для обучения и предсказания для LightGBM, Random Forest и SGD, а также сравним результат предсказания с наивным регрессионным алгоритмом\n",
    "</span>"
   ]
  },
  {
   "attachments": {},
   "cell_type": "markdown",
   "metadata": {},
   "source": [
    "<span style=\"color:green\">\n",
    "Поскольку по результатам кросс-валидации лучше всего себя показал алгоритм LightGBM, а также по замерам средних времен на одну операцию кросс-валидации (обучение и предсказание) скорость работы LightGBM также превысила аналогичные скорости Random Forest и SGD, проведем тестирование вместе с еще одним контрольным замером времени обучения и предсказания на LightGBM модели\n",
    "</span>"
   ]
  },
  {
   "attachments": {},
   "cell_type": "markdown",
   "metadata": {},
   "source": [
    "<span style=\"color:green\">\n",
    "<b>LightGBM</b>\n",
    "</span>"
   ]
  },
  {
   "cell_type": "code",
   "execution_count": 36,
   "metadata": {},
   "outputs": [
    {
     "name": "stderr",
     "output_type": "stream",
     "text": [
      "c:\\Users\\Артем\\AppData\\Local\\Programs\\Python\\Python39\\lib\\site-packages\\lightgbm\\engine.py:177: UserWarning: Found `n_estimators` in params. Will use it instead of argument\n",
      "  _log_warning(f\"Found `{alias}` in params. Will use it instead of argument\")\n"
     ]
    },
    {
     "name": "stdout",
     "output_type": "stream",
     "text": [
      "[LightGBM] [Warning] Accuracy may be bad since you didn't explicitly set num_leaves OR 2^max_depth > num_leaves. (num_leaves=31).\n",
      "[LightGBM] [Warning] Accuracy may be bad since you didn't explicitly set num_leaves OR 2^max_depth > num_leaves. (num_leaves=31).\n",
      "[LightGBM] [Warning] Auto-choosing row-wise multi-threading, the overhead of testing was 0.004712 seconds.\n",
      "You can set `force_row_wise=true` to remove the overhead.\n",
      "And if memory is not enough, you can set `force_col_wise=true`.\n",
      "[LightGBM] [Info] Total Bins 644\n",
      "[LightGBM] [Info] Number of data points in the train set: 224140, number of used features: 10\n",
      "[LightGBM] [Info] Start training from score 4944.781007\n",
      "LightGBM prediction RMSE: 1503.927209502898\n",
      "LightGBM fit time: 0.44628190994262695,  prediction time: 0.07782793045043945\n"
     ]
    }
   ],
   "source": [
    "train_data = lgb.Dataset(features_train_fl, target_train_fl)\n",
    "best_params = {\"n_estimators\" : best_lgb_params_fl['n_estimators'], \"max_depth\" : best_lgb_params_fl['max_depth'], \"random_state\" : 123}\n",
    "\n",
    "# Обучение\n",
    "start_time = time.time()\n",
    "model_best_filled = lgb.train(best_params, train_set=train_data)\n",
    "lgb_learn_time = time.time()-start_time\n",
    "\n",
    "# Предсказание\n",
    "start_time = time.time()\n",
    "target_predict = model_best_filled.predict(features_test_fl)\n",
    "lgb_predict_time = time.time()-start_time\n",
    "rmse = np.sqrt(mean_squared_error(target_test_fl, target_predict))\n",
    "print(f'LightGBM prediction RMSE: {rmse}')\n",
    "print(f'LightGBM fit time: {lgb_learn_time},  prediction time: {lgb_predict_time}')"
   ]
  },
  {
   "attachments": {},
   "cell_type": "markdown",
   "metadata": {},
   "source": [
    "<span style=\"color:green\">\n",
    "<b>Наивный алгоритм</b>\n",
    "</span>"
   ]
  },
  {
   "cell_type": "code",
   "execution_count": 37,
   "metadata": {},
   "outputs": [
    {
     "name": "stdout",
     "output_type": "stream",
     "text": [
      "Best dummy RMSE: 4593.72981786537\n"
     ]
    }
   ],
   "source": [
    "dummy_algo = DummyRegressor(strategy='mean')\n",
    "dummy_algo.fit(features_train_fl, target_train_fl)\n",
    "target_predict = dummy_algo.predict(features_test_fl)\n",
    "dummy_rmse = np.sqrt(mean_squared_error(target_test_fl, target_predict))\n",
    "print(f'Best dummy RMSE: {dummy_rmse}')"
   ]
  },
  {
   "attachments": {},
   "cell_type": "markdown",
   "metadata": {},
   "source": [
    "<span style=\"color:green\">\n",
    "Выводы по скорости обучения и предсказания алгоритмов таковы:<br><br>\n",
    "Стохастический градиентный спуск - очень долго обучается - 25.7 секунд, быстро дает предсказание - 0.04 секунды. Однако, несмотря на высокую скороть вычисления предсказания, он не годится из-за плохих предыдущих результатов кросс-валидации (на тестовой выборке он также показал себя плохо) и долгого обучения<br><br>\n",
    "Лес деревьев - долгое обучение - 23 секунды, довольно долгое предсказание - 0.37 секунды. Хотя кросс-вадидация дала неплохой результат RMSE (да и на тестовой выборке он не ухудшился), все равно алгоритм придется отбросить из-за долгого обучения<br><br>\n",
    "Градиентный бустинг показал кие скорости обучения и предсказания - 0.4 секунды и 0.08 секунд, соответсвенно. Также он не ухудшил результат на тестовой выборке<br><br>\n",
    "Наивный алгоритм регрессии показывает, что в принципе, задача поддается всем трем перечисленным алгоритмам и результат их работы в любом случае применим для прогнозирования\n",
    "</span>"
   ]
  },
  {
   "cell_type": "markdown",
   "metadata": {},
   "source": [
    "<span style=\"color:green\">\n",
    "<h3>Выводы</h3>\n",
    "<br>\n",
    "Была проведена работа над подготовкой и восстановлением данных. Алгоритм градиентного бустинга в реализации LightGBM умеет оперировать с отсутствующими и категориальными данными, что и было показано выше на датасете с пропущенными значениями и восстановленными значениями. При этом был достигнут весьма хороший результат по точности предсказания стоимости автомобиля - RMSE = 1594 долларов при быстрой скорости работы алгоритма.<br>\n",
    "Для сранения был взят лес деревьев регрессии который не умеет работыть с пропущенными и категориальными данными - для этого категориальные данные пришлось заменять на целочисленные. Вместе с этим скорость работы отсатется низкой и качество предсказания стоимости автомобиля хуже - RMSE = 2398 долларов<br>\n",
    "Наивный алгоритм регрессии дает слишком высокое значение RMSE = 4573, что подтверждает то, что представленные алгоритмы регрессии дают довольно точные предсказания.\n",
    "</span>"
   ]
  },
  {
   "attachments": {},
   "cell_type": "markdown",
   "metadata": {},
   "source": [
    "<span style=\"color:green\">\n",
    "По совокупности результатов работы (RMSE, скорость обучения, скорость предсказания) из трех алгоритмов - SGD, Random Forest, LightGBM для работы с данными по предсказанию цены автомобиля можно рекомендовать градиентный бустинг\n",
    "</span>"
   ]
  }
 ],
 "metadata": {
  "ExecuteTimeLog": [
   {
    "duration": 1624,
    "start_time": "2022-08-29T18:43:35.405Z"
   },
   {
    "duration": 161,
    "start_time": "2022-08-29T18:43:37.031Z"
   },
   {
    "duration": 0,
    "start_time": "2022-08-29T18:43:37.194Z"
   },
   {
    "duration": 0,
    "start_time": "2022-08-29T18:43:37.195Z"
   },
   {
    "duration": 0,
    "start_time": "2022-08-29T18:43:37.196Z"
   },
   {
    "duration": 0,
    "start_time": "2022-08-29T18:43:37.197Z"
   },
   {
    "duration": 0,
    "start_time": "2022-08-29T18:43:37.198Z"
   },
   {
    "duration": 0,
    "start_time": "2022-08-29T18:43:37.205Z"
   },
   {
    "duration": 8,
    "start_time": "2022-08-29T18:43:37.239Z"
   },
   {
    "duration": 9,
    "start_time": "2022-08-29T18:43:38.015Z"
   },
   {
    "duration": 9,
    "start_time": "2022-08-29T18:43:38.159Z"
   },
   {
    "duration": 1535,
    "start_time": "2022-08-29T18:45:08.723Z"
   },
   {
    "duration": 24,
    "start_time": "2022-08-29T18:45:11.893Z"
   },
   {
    "duration": 245,
    "start_time": "2022-08-29T18:45:11.977Z"
   },
   {
    "duration": 101,
    "start_time": "2022-08-29T18:45:12.224Z"
   },
   {
    "duration": 104,
    "start_time": "2022-08-29T18:45:12.327Z"
   },
   {
    "duration": 101,
    "start_time": "2022-08-29T18:45:12.433Z"
   },
   {
    "duration": 99,
    "start_time": "2022-08-29T18:45:12.536Z"
   },
   {
    "duration": 210,
    "start_time": "2022-08-29T18:45:12.637Z"
   },
   {
    "duration": 16,
    "start_time": "2022-08-29T18:45:13.233Z"
   },
   {
    "duration": 410,
    "start_time": "2022-08-29T18:45:13.424Z"
   },
   {
    "duration": 24,
    "start_time": "2022-08-29T18:45:14.283Z"
   },
   {
    "duration": 10,
    "start_time": "2022-08-29T18:45:14.430Z"
   },
   {
    "duration": 796,
    "start_time": "2022-08-29T18:45:14.612Z"
   },
   {
    "duration": 13,
    "start_time": "2022-08-29T18:45:15.420Z"
   },
   {
    "duration": 11,
    "start_time": "2022-08-29T18:45:15.975Z"
   },
   {
    "duration": 868,
    "start_time": "2022-08-29T18:45:16.181Z"
   },
   {
    "duration": 13,
    "start_time": "2022-08-29T18:45:17.105Z"
   },
   {
    "duration": 10,
    "start_time": "2022-08-29T18:45:17.120Z"
   },
   {
    "duration": 7,
    "start_time": "2022-08-29T18:45:17.232Z"
   },
   {
    "duration": 46,
    "start_time": "2022-08-29T18:45:19.272Z"
   },
   {
    "duration": 88,
    "start_time": "2022-08-29T18:45:19.733Z"
   },
   {
    "duration": 69,
    "start_time": "2022-08-29T18:45:31.754Z"
   },
   {
    "duration": 145,
    "start_time": "2022-08-29T18:45:33.207Z"
   },
   {
    "duration": 479,
    "start_time": "2022-08-29T18:45:33.629Z"
   },
   {
    "duration": 15,
    "start_time": "2022-08-29T18:45:40.085Z"
   },
   {
    "duration": 1467,
    "start_time": "2022-08-29T18:46:21.373Z"
   },
   {
    "duration": 150,
    "start_time": "2022-08-29T18:46:22.842Z"
   },
   {
    "duration": 0,
    "start_time": "2022-08-29T18:46:22.994Z"
   },
   {
    "duration": 0,
    "start_time": "2022-08-29T18:46:22.995Z"
   },
   {
    "duration": 0,
    "start_time": "2022-08-29T18:46:22.997Z"
   },
   {
    "duration": 0,
    "start_time": "2022-08-29T18:46:22.998Z"
   },
   {
    "duration": 0,
    "start_time": "2022-08-29T18:46:22.998Z"
   },
   {
    "duration": 0,
    "start_time": "2022-08-29T18:46:23.005Z"
   },
   {
    "duration": 0,
    "start_time": "2022-08-29T18:46:23.006Z"
   },
   {
    "duration": 0,
    "start_time": "2022-08-29T18:46:23.007Z"
   },
   {
    "duration": 0,
    "start_time": "2022-08-29T18:46:23.008Z"
   },
   {
    "duration": 0,
    "start_time": "2022-08-29T18:46:23.009Z"
   },
   {
    "duration": 0,
    "start_time": "2022-08-29T18:46:23.009Z"
   },
   {
    "duration": 0,
    "start_time": "2022-08-29T18:46:23.010Z"
   },
   {
    "duration": 0,
    "start_time": "2022-08-29T18:46:23.011Z"
   },
   {
    "duration": 0,
    "start_time": "2022-08-29T18:46:23.011Z"
   },
   {
    "duration": 0,
    "start_time": "2022-08-29T18:46:23.012Z"
   },
   {
    "duration": 0,
    "start_time": "2022-08-29T18:46:23.013Z"
   },
   {
    "duration": 0,
    "start_time": "2022-08-29T18:46:23.014Z"
   },
   {
    "duration": 0,
    "start_time": "2022-08-29T18:46:23.015Z"
   },
   {
    "duration": 0,
    "start_time": "2022-08-29T18:46:23.016Z"
   },
   {
    "duration": 0,
    "start_time": "2022-08-29T18:46:23.017Z"
   },
   {
    "duration": 0,
    "start_time": "2022-08-29T18:46:23.018Z"
   },
   {
    "duration": 0,
    "start_time": "2022-08-29T18:46:23.019Z"
   },
   {
    "duration": 0,
    "start_time": "2022-08-29T18:46:23.020Z"
   },
   {
    "duration": 0,
    "start_time": "2022-08-29T18:46:23.020Z"
   },
   {
    "duration": 0,
    "start_time": "2022-08-29T18:46:23.021Z"
   },
   {
    "duration": 0,
    "start_time": "2022-08-29T18:46:23.022Z"
   },
   {
    "duration": 0,
    "start_time": "2022-08-29T18:46:23.023Z"
   },
   {
    "duration": 0,
    "start_time": "2022-08-29T18:46:23.024Z"
   },
   {
    "duration": 0,
    "start_time": "2022-08-29T18:46:23.025Z"
   },
   {
    "duration": 0,
    "start_time": "2022-08-29T18:46:23.026Z"
   },
   {
    "duration": 0,
    "start_time": "2022-08-29T18:46:23.027Z"
   },
   {
    "duration": 0,
    "start_time": "2022-08-29T18:46:23.027Z"
   },
   {
    "duration": 0,
    "start_time": "2022-08-29T18:46:23.028Z"
   },
   {
    "duration": 0,
    "start_time": "2022-08-29T18:46:23.029Z"
   },
   {
    "duration": 0,
    "start_time": "2022-08-29T18:46:23.030Z"
   },
   {
    "duration": 0,
    "start_time": "2022-08-29T18:46:23.031Z"
   },
   {
    "duration": 0,
    "start_time": "2022-08-29T18:46:23.032Z"
   },
   {
    "duration": 0,
    "start_time": "2022-08-29T18:46:23.033Z"
   },
   {
    "duration": 0,
    "start_time": "2022-08-29T18:46:23.034Z"
   },
   {
    "duration": 0,
    "start_time": "2022-08-29T18:46:23.035Z"
   },
   {
    "duration": 0,
    "start_time": "2022-08-29T18:46:23.036Z"
   },
   {
    "duration": 0,
    "start_time": "2022-08-29T18:46:23.037Z"
   },
   {
    "duration": 0,
    "start_time": "2022-08-29T18:46:23.038Z"
   },
   {
    "duration": 754,
    "start_time": "2022-08-29T18:46:39.382Z"
   },
   {
    "duration": 17,
    "start_time": "2022-08-29T18:46:40.138Z"
   },
   {
    "duration": 132,
    "start_time": "2022-08-29T18:46:40.156Z"
   },
   {
    "duration": 46,
    "start_time": "2022-08-29T18:46:40.290Z"
   },
   {
    "duration": 45,
    "start_time": "2022-08-29T18:46:40.337Z"
   },
   {
    "duration": 58,
    "start_time": "2022-08-29T18:46:40.385Z"
   },
   {
    "duration": 41,
    "start_time": "2022-08-29T18:46:40.531Z"
   },
   {
    "duration": 94,
    "start_time": "2022-08-29T18:46:40.686Z"
   },
   {
    "duration": 40,
    "start_time": "2022-08-29T18:46:41.294Z"
   },
   {
    "duration": 195,
    "start_time": "2022-08-29T18:46:41.453Z"
   },
   {
    "duration": 13,
    "start_time": "2022-08-29T18:46:42.291Z"
   },
   {
    "duration": 9,
    "start_time": "2022-08-29T18:46:42.462Z"
   },
   {
    "duration": 385,
    "start_time": "2022-08-29T18:46:42.626Z"
   },
   {
    "duration": 13,
    "start_time": "2022-08-29T18:46:43.784Z"
   },
   {
    "duration": 11,
    "start_time": "2022-08-29T18:46:43.961Z"
   },
   {
    "duration": 455,
    "start_time": "2022-08-29T18:46:44.099Z"
   },
   {
    "duration": 14,
    "start_time": "2022-08-29T18:46:44.990Z"
   },
   {
    "duration": 11,
    "start_time": "2022-08-29T18:46:45.236Z"
   },
   {
    "duration": 7,
    "start_time": "2022-08-29T18:46:45.454Z"
   },
   {
    "duration": 33,
    "start_time": "2022-08-29T18:46:46.883Z"
   },
   {
    "duration": 52,
    "start_time": "2022-08-29T18:46:47.384Z"
   },
   {
    "duration": 86,
    "start_time": "2022-08-29T18:46:47.675Z"
   },
   {
    "duration": 239,
    "start_time": "2022-08-29T18:46:47.942Z"
   },
   {
    "duration": 16,
    "start_time": "2022-08-29T18:47:05.715Z"
   },
   {
    "duration": 13,
    "start_time": "2022-08-29T18:47:06.073Z"
   },
   {
    "duration": 115,
    "start_time": "2022-08-29T18:47:06.381Z"
   },
   {
    "duration": 94,
    "start_time": "2022-08-29T18:47:06.652Z"
   },
   {
    "duration": 82,
    "start_time": "2022-08-29T18:47:08.024Z"
   },
   {
    "duration": 81,
    "start_time": "2022-08-29T18:47:08.381Z"
   },
   {
    "duration": 131,
    "start_time": "2022-08-29T18:47:10.331Z"
   },
   {
    "duration": 42,
    "start_time": "2022-08-29T18:47:10.464Z"
   },
   {
    "duration": 10392,
    "start_time": "2022-08-29T18:47:12.122Z"
   },
   {
    "duration": 494,
    "start_time": "2022-08-29T18:47:22.516Z"
   },
   {
    "duration": 141,
    "start_time": "2022-08-29T18:47:23.012Z"
   },
   {
    "duration": 33,
    "start_time": "2022-08-29T18:47:23.155Z"
   },
   {
    "duration": 3725,
    "start_time": "2022-08-29T18:47:23.189Z"
   },
   {
    "duration": 404,
    "start_time": "2022-08-29T18:47:26.915Z"
   },
   {
    "duration": 1652,
    "start_time": "2022-09-01T14:23:15.186Z"
   },
   {
    "duration": 2,
    "start_time": "2022-09-01T14:23:16.840Z"
   },
   {
    "duration": 998,
    "start_time": "2022-09-01T14:23:16.843Z"
   },
   {
    "duration": 755,
    "start_time": "2022-09-01T14:23:17.842Z"
   },
   {
    "duration": 15,
    "start_time": "2022-09-01T14:23:18.598Z"
   },
   {
    "duration": 105,
    "start_time": "2022-09-01T14:23:18.614Z"
   },
   {
    "duration": 44,
    "start_time": "2022-09-01T14:23:18.721Z"
   },
   {
    "duration": 58,
    "start_time": "2022-09-01T14:23:18.766Z"
   },
   {
    "duration": 41,
    "start_time": "2022-09-01T14:23:18.825Z"
   },
   {
    "duration": 54,
    "start_time": "2022-09-01T14:23:18.869Z"
   },
   {
    "duration": 94,
    "start_time": "2022-09-01T14:23:18.925Z"
   },
   {
    "duration": 2,
    "start_time": "2022-09-01T14:23:19.021Z"
   },
   {
    "duration": 206,
    "start_time": "2022-09-01T14:23:19.024Z"
   },
   {
    "duration": 25,
    "start_time": "2022-09-01T14:23:19.232Z"
   },
   {
    "duration": 23,
    "start_time": "2022-09-01T14:23:19.258Z"
   },
   {
    "duration": 44,
    "start_time": "2022-09-01T14:23:19.282Z"
   },
   {
    "duration": 2,
    "start_time": "2022-09-01T14:23:19.328Z"
   },
   {
    "duration": 7,
    "start_time": "2022-09-01T14:23:19.332Z"
   },
   {
    "duration": 349,
    "start_time": "2022-09-01T14:23:19.341Z"
   },
   {
    "duration": 129,
    "start_time": "2022-09-01T14:23:42.770Z"
   },
   {
    "duration": 14056,
    "start_time": "2022-09-01T14:23:48.555Z"
   },
   {
    "duration": 12,
    "start_time": "2022-09-01T14:24:05.297Z"
   },
   {
    "duration": 21112,
    "start_time": "2022-09-01T14:24:12.977Z"
   },
   {
    "duration": 20977,
    "start_time": "2022-09-01T14:24:49.112Z"
   },
   {
    "duration": 1397,
    "start_time": "2022-09-01T14:39:46.110Z"
   },
   {
    "duration": 3,
    "start_time": "2022-09-01T14:39:47.508Z"
   },
   {
    "duration": 746,
    "start_time": "2022-09-01T14:39:47.512Z"
   },
   {
    "duration": 751,
    "start_time": "2022-09-01T14:39:48.260Z"
   },
   {
    "duration": 15,
    "start_time": "2022-09-01T14:39:49.013Z"
   },
   {
    "duration": 118,
    "start_time": "2022-09-01T14:39:49.030Z"
   },
   {
    "duration": 43,
    "start_time": "2022-09-01T14:39:49.150Z"
   },
   {
    "duration": 46,
    "start_time": "2022-09-01T14:39:49.211Z"
   },
   {
    "duration": 55,
    "start_time": "2022-09-01T14:39:49.259Z"
   },
   {
    "duration": 42,
    "start_time": "2022-09-01T14:39:49.316Z"
   },
   {
    "duration": 112,
    "start_time": "2022-09-01T14:39:49.360Z"
   },
   {
    "duration": 2,
    "start_time": "2022-09-01T14:39:49.474Z"
   },
   {
    "duration": 210,
    "start_time": "2022-09-01T14:39:49.478Z"
   },
   {
    "duration": 35,
    "start_time": "2022-09-01T14:39:49.692Z"
   },
   {
    "duration": 25,
    "start_time": "2022-09-01T14:39:49.729Z"
   },
   {
    "duration": 24,
    "start_time": "2022-09-01T14:39:49.756Z"
   },
   {
    "duration": 29,
    "start_time": "2022-09-01T14:39:49.782Z"
   },
   {
    "duration": 8,
    "start_time": "2022-09-01T14:39:49.812Z"
   },
   {
    "duration": 353,
    "start_time": "2022-09-01T14:39:49.821Z"
   },
   {
    "duration": 20870,
    "start_time": "2022-09-01T14:39:50.175Z"
   },
   {
    "duration": 11,
    "start_time": "2022-09-01T14:40:11.047Z"
   },
   {
    "duration": 11,
    "start_time": "2022-09-01T14:40:11.059Z"
   },
   {
    "duration": 344,
    "start_time": "2022-09-01T14:40:11.071Z"
   },
   {
    "duration": 2,
    "start_time": "2022-09-01T14:40:11.417Z"
   },
   {
    "duration": 14,
    "start_time": "2022-09-01T14:40:11.420Z"
   },
   {
    "duration": 9,
    "start_time": "2022-09-01T14:40:11.436Z"
   },
   {
    "duration": 41,
    "start_time": "2022-09-01T14:40:11.447Z"
   },
   {
    "duration": 110,
    "start_time": "2022-09-01T14:40:11.490Z"
   },
   {
    "duration": 2,
    "start_time": "2022-09-01T14:40:11.602Z"
   },
   {
    "duration": 211,
    "start_time": "2022-09-01T14:40:11.610Z"
   },
   {
    "duration": 17,
    "start_time": "2022-09-01T14:40:11.822Z"
   },
   {
    "duration": 12,
    "start_time": "2022-09-01T14:40:11.840Z"
   },
   {
    "duration": 3,
    "start_time": "2022-09-01T14:40:11.853Z"
   },
   {
    "duration": 108,
    "start_time": "2022-09-01T14:40:11.858Z"
   },
   {
    "duration": 85,
    "start_time": "2022-09-01T14:40:11.968Z"
   },
   {
    "duration": 85,
    "start_time": "2022-09-01T14:40:12.055Z"
   },
   {
    "duration": 85,
    "start_time": "2022-09-01T14:40:12.142Z"
   },
   {
    "duration": 30,
    "start_time": "2022-09-01T14:40:12.228Z"
   },
   {
    "duration": 2,
    "start_time": "2022-09-01T14:40:12.260Z"
   },
   {
    "duration": 7,
    "start_time": "2022-09-01T14:40:12.263Z"
   },
   {
    "duration": 6,
    "start_time": "2022-09-01T14:40:12.273Z"
   },
   {
    "duration": 7,
    "start_time": "2022-09-01T14:40:12.280Z"
   },
   {
    "duration": 4,
    "start_time": "2022-09-01T14:40:12.288Z"
   },
   {
    "duration": 17,
    "start_time": "2022-09-01T14:40:12.294Z"
   },
   {
    "duration": 3,
    "start_time": "2022-09-01T14:40:12.312Z"
   },
   {
    "duration": 5,
    "start_time": "2022-09-01T14:40:12.316Z"
   },
   {
    "duration": 5,
    "start_time": "2022-09-01T14:40:12.322Z"
   },
   {
    "duration": 4,
    "start_time": "2022-09-01T14:40:12.329Z"
   },
   {
    "duration": 176,
    "start_time": "2022-09-01T14:40:12.335Z"
   }
  ],
  "kernelspec": {
   "display_name": "Python 3 (ipykernel)",
   "language": "python",
   "name": "python3"
  },
  "language_info": {
   "codemirror_mode": {
    "name": "ipython",
    "version": 3
   },
   "file_extension": ".py",
   "mimetype": "text/x-python",
   "name": "python",
   "nbconvert_exporter": "python",
   "pygments_lexer": "ipython3",
   "version": "3.9.2"
  },
  "toc": {
   "base_numbering": 1,
   "nav_menu": {},
   "number_sections": true,
   "sideBar": true,
   "skip_h1_title": true,
   "title_cell": "Table of Contents",
   "title_sidebar": "Contents",
   "toc_cell": false,
   "toc_position": {},
   "toc_section_display": true,
   "toc_window_display": false
  },
  "vscode": {
   "interpreter": {
    "hash": "99bf1d2320a292a6993a37db43dc627d43d0039aa03c7d61341ee08f675cceca"
   }
  }
 },
 "nbformat": 4,
 "nbformat_minor": 2
}
